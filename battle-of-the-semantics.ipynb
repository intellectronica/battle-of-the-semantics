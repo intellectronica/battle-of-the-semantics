{
 "cells": [
  {
   "cell_type": "code",
   "execution_count": 72,
   "metadata": {},
   "outputs": [],
   "source": [
    "%pip install openai graphrag pandas requests python-dotenv langchain numpy tiktoken matplotlib scikit-learn pyyaml pydantic instructor\n",
    "from IPython.display import clear_output ; clear_output()"
   ]
  },
  {
   "cell_type": "code",
   "execution_count": 61,
   "metadata": {},
   "outputs": [],
   "source": [
    "from dotenv import load_dotenv\n",
    "import os\n",
    "load_dotenv()\n",
    "\n",
    "is_azure = (\n",
    "  os.getenv(\"AZURE_OPENAI_ENDPOINT\", default=\"\") != \"\" and\n",
    "  os.getenv(\"OPENAI_API_KEY\", default=\"\") == \"\"\n",
    ")\n",
    "\n",
    "GPT_4_O_MODEL_NAME = os.getenv(\"GPT_4_O_MODEL_NAME\", default=\"gpt-4o\")\n",
    "TEXT_EMBEDDING_3_LARGE_MODEL_NAME = os.getenv(\"TEXT_EMBEDDING_3_LARGE_MODEL_NAME\", default=\"text-embedding-3-large\")\n",
    "\n",
    "if is_azure:\n",
    "  AZURE_OPENAI_ENDPOINT = os.getenv(\"AZURE_OPENAI_ENDPOINT\")\n",
    "  AZURE_OPENAI_API_KEY = os.getenv(\"AZURE_OPENAI_API_KEY\")\n",
    "  AZURE_OPENAI_API_VERSION = \"2024-05-01-preview\"\n",
    "  from openai import AzureOpenAI\n",
    "  oai = AzureOpenAI(azure_endpoint=AZURE_OPENAI_ENDPOINT, api_key=AZURE_OPENAI_API_KEY, api_version=AZURE_OPENAI_API_VERSION)\n",
    "else:\n",
    "  OPENAI_API_KEY = os.getenv(\"OPENAI_API_KEY\")\n",
    "  from openai import OpenAI\n",
    "  oai = OpenAI(api_key=OPENAI_API_KEY)"
   ]
  },
  {
   "cell_type": "code",
   "execution_count": 62,
   "metadata": {},
   "outputs": [
    {
     "name": "stdout",
     "output_type": "stream",
     "text": [
      "Title: French Revolution\n",
      "\n",
      "URL Source: https://en.wikipedia.org/wiki/French_Revolution\n",
      "\n",
      "Published Time: 2001-10-18T00:19:10Z\n"
     ]
    }
   ],
   "source": [
    "import requests\n",
    "import os\n",
    "\n",
    "if not os.path.exists('data'): os.makedirs('data')\n",
    "\n",
    "if not os.path.exists('data/french_revolution.md'):\n",
    "  french_revolution = requests.get(\"https://r.jina.ai/https://en.wikipedia.org/wiki/French_Revolution\").text.split('\\nSee also')[0]\n",
    "  with open('data/french_revolution.md', 'w') as f:\n",
    "    f.write(french_revolution)\n",
    "else:\n",
    "  with open('data/french_revolution.md', 'r') as f:\n",
    "    french_revolution = f.read()\n",
    "\n",
    "print(french_revolution[:123])"
   ]
  },
  {
   "cell_type": "code",
   "execution_count": 63,
   "metadata": {},
   "outputs": [
    {
     "data": {
      "text/html": [
       "<div>\n",
       "<style scoped>\n",
       "    .dataframe tbody tr th:only-of-type {\n",
       "        vertical-align: middle;\n",
       "    }\n",
       "\n",
       "    .dataframe tbody tr th {\n",
       "        vertical-align: top;\n",
       "    }\n",
       "\n",
       "    .dataframe thead th {\n",
       "        text-align: right;\n",
       "    }\n",
       "</style>\n",
       "<table border=\"1\" class=\"dataframe\">\n",
       "  <thead>\n",
       "    <tr style=\"text-align: right;\">\n",
       "      <th></th>\n",
       "      <th>Topic</th>\n",
       "      <th>Text</th>\n",
       "      <th>Embedding</th>\n",
       "    </tr>\n",
       "  </thead>\n",
       "  <tbody>\n",
       "    <tr>\n",
       "      <th>0</th>\n",
       "      <td>French Revolution</td>\n",
       "      <td>Title: French Revolution\\n\\nURL Source: https:...</td>\n",
       "      <td>[-0.02485630474984646, 0.0026923343539237976, ...</td>\n",
       "    </tr>\n",
       "    <tr>\n",
       "      <th>1</th>\n",
       "      <td>Key events of the French Revolution</td>\n",
       "      <td>The Storming of the Bastille, 14 July 1789\\n\\n...</td>\n",
       "      <td>[-0.005255864467471838, 0.0037901357281953096,...</td>\n",
       "    </tr>\n",
       "    <tr>\n",
       "      <th>2</th>\n",
       "      <td>The French Revolution and its impact on modern...</td>\n",
       "      <td>The French Revolution[a] was a period of polit...</td>\n",
       "      <td>[-0.027185581624507904, -0.016875529661774635,...</td>\n",
       "    </tr>\n",
       "    <tr>\n",
       "      <th>3</th>\n",
       "      <td>Causes and early events of the French Revolution</td>\n",
       "      <td>Its causes are generally agreed to be a combin...</td>\n",
       "      <td>[-0.020989766344428062, -0.024809090420603752,...</td>\n",
       "    </tr>\n",
       "    <tr>\n",
       "      <th>4</th>\n",
       "      <td>Key events in the early stages of the French R...</td>\n",
       "      <td>which was converted into a National Assembly i...</td>\n",
       "      <td>[-0.009496822953224182, -0.017249926924705505,...</td>\n",
       "    </tr>\n",
       "    <tr>\n",
       "      <th>...</th>\n",
       "      <td>...</td>\n",
       "      <td>...</td>\n",
       "      <td>...</td>\n",
       "    </tr>\n",
       "    <tr>\n",
       "      <th>296</th>\n",
       "      <td>Alphonse Aulard's contributions to the study o...</td>\n",
       "      <td>evidence.[266][267] Alphonse Aulard (1849–1928...</td>\n",
       "      <td>[-0.0005632034735754132, 0.021342121064662933,...</td>\n",
       "    </tr>\n",
       "    <tr>\n",
       "      <th>297</th>\n",
       "      <td>Marxist socio-economic analysis of the French ...</td>\n",
       "      <td>Socio-economic analysis and a focus on the exp...</td>\n",
       "      <td>[-0.003857595380395651, 0.007019456941634417, ...</td>\n",
       "    </tr>\n",
       "    <tr>\n",
       "      <th>298</th>\n",
       "      <td>Alfred Cobban's critique of Jacobin-Marxist in...</td>\n",
       "      <td>Alfred Cobban challenged Jacobin-Marxist socia...</td>\n",
       "      <td>[0.004117575474083424, 0.00744161382317543, -0...</td>\n",
       "    </tr>\n",
       "    <tr>\n",
       "      <th>299</th>\n",
       "      <td>Political decisions and radicalization during ...</td>\n",
       "      <td>In their 1965 work, La Revolution française, F...</td>\n",
       "      <td>[0.017132386565208435, 0.012499384582042694, -...</td>\n",
       "    </tr>\n",
       "    <tr>\n",
       "      <th>300</th>\n",
       "      <td>Historiography of the Revolution and its evolv...</td>\n",
       "      <td>From the 1990s, Western scholars largely aband...</td>\n",
       "      <td>[0.011588281020522118, 0.011026991531252861, -...</td>\n",
       "    </tr>\n",
       "  </tbody>\n",
       "</table>\n",
       "<p>301 rows × 3 columns</p>\n",
       "</div>"
      ],
      "text/plain": [
       "                                                 Topic  \\\n",
       "0                                    French Revolution   \n",
       "1                  Key events of the French Revolution   \n",
       "2    The French Revolution and its impact on modern...   \n",
       "3     Causes and early events of the French Revolution   \n",
       "4    Key events in the early stages of the French R...   \n",
       "..                                                 ...   \n",
       "296  Alphonse Aulard's contributions to the study o...   \n",
       "297  Marxist socio-economic analysis of the French ...   \n",
       "298  Alfred Cobban's critique of Jacobin-Marxist in...   \n",
       "299  Political decisions and radicalization during ...   \n",
       "300  Historiography of the Revolution and its evolv...   \n",
       "\n",
       "                                                  Text  \\\n",
       "0    Title: French Revolution\\n\\nURL Source: https:...   \n",
       "1    The Storming of the Bastille, 14 July 1789\\n\\n...   \n",
       "2    The French Revolution[a] was a period of polit...   \n",
       "3    Its causes are generally agreed to be a combin...   \n",
       "4    which was converted into a National Assembly i...   \n",
       "..                                                 ...   \n",
       "296  evidence.[266][267] Alphonse Aulard (1849–1928...   \n",
       "297  Socio-economic analysis and a focus on the exp...   \n",
       "298  Alfred Cobban challenged Jacobin-Marxist socia...   \n",
       "299  In their 1965 work, La Revolution française, F...   \n",
       "300  From the 1990s, Western scholars largely aband...   \n",
       "\n",
       "                                             Embedding  \n",
       "0    [-0.02485630474984646, 0.0026923343539237976, ...  \n",
       "1    [-0.005255864467471838, 0.0037901357281953096,...  \n",
       "2    [-0.027185581624507904, -0.016875529661774635,...  \n",
       "3    [-0.020989766344428062, -0.024809090420603752,...  \n",
       "4    [-0.009496822953224182, -0.017249926924705505,...  \n",
       "..                                                 ...  \n",
       "296  [-0.0005632034735754132, 0.021342121064662933,...  \n",
       "297  [-0.003857595380395651, 0.007019456941634417, ...  \n",
       "298  [0.004117575474083424, 0.00744161382317543, -0...  \n",
       "299  [0.017132386565208435, 0.012499384582042694, -...  \n",
       "300  [0.011588281020522118, 0.011026991531252861, -...  \n",
       "\n",
       "[301 rows x 3 columns]"
      ]
     },
     "execution_count": 63,
     "metadata": {},
     "output_type": "execute_result"
    }
   ],
   "source": [
    "from langchain.text_splitter import MarkdownTextSplitter\n",
    "import pandas as pd\n",
    "\n",
    "if not os.path.exists('data/embeddings.parquet'):\n",
    "  embeddings = pd.DataFrame(columns=['Topic', 'Text', 'Embedding'])\n",
    "\n",
    "  splitter = MarkdownTextSplitter(chunk_size=500, chunk_overlap=250)\n",
    "\n",
    "  chunks = splitter.split_text(french_revolution)\n",
    "  chunk_embeddings = oai.embeddings.create(\n",
    "    input=chunks,\n",
    "    model=TEXT_EMBEDDING_3_LARGE_MODEL_NAME\n",
    "  )\n",
    "  for i, chunk in enumerate(chunks):\n",
    "    try:\n",
    "      topic = oai.chat.completions.create(\n",
    "        model=GPT_4_O_MODEL_NAME,\n",
    "        messages=[\n",
    "          {\n",
    "            \"role\": \"system\",\n",
    "            \"content\": (\"Read the user-provided text carefully and output its topic as a short sentence. \"\n",
    "                        \"For example: 'Key events in the life of George Washington', 'Inflation in the Weimar republic'. \"\n",
    "                        \"Do not add any additional text such as punctuation, markup, or quoting. Only output the topic.\")},\n",
    "          {\"role\": \"user\", \"content\": chunk}\n",
    "        ],\n",
    "        max_tokens=23,\n",
    "        temperature=0.5,\n",
    "      ).choices[0].message.content\n",
    "    except Exception:\n",
    "      pass\n",
    "    embeddings.loc[len(embeddings)] = [topic or chunk[:23], chunk, chunk_embeddings.data[i].embedding]\n",
    "  embeddings.to_parquet('data/embeddings.parquet')\n",
    "else:\n",
    "  embeddings = pd.read_parquet('data/embeddings.parquet')\n",
    "\n",
    "embeddings"
   ]
  },
  {
   "cell_type": "code",
   "execution_count": 64,
   "metadata": {},
   "outputs": [],
   "source": [
    "import numpy as np\n",
    "import tiktoken\n",
    "\n",
    "def cosine_similarity(vector1, vector2):\n",
    "  dot_product = np.dot(vector1, vector2)\n",
    "  norm1 = np.linalg.norm(vector1)\n",
    "  norm2 = np.linalg.norm(vector2)\n",
    "  similarity = dot_product / (norm1 * norm2)\n",
    "  return similarity\n",
    "\n",
    "tokenizer = tiktoken.encoding_for_model('gpt-4o')\n",
    "\n",
    "def embeddings_search(query, max_tokens=10000, k=100, min_similarity=0.2):\n",
    "  query_embedding = oai.embeddings.create(\n",
    "    input=[query],\n",
    "    model=TEXT_EMBEDDING_3_LARGE_MODEL_NAME\n",
    "  ).data[0].embedding\n",
    "  results = embeddings.copy()\n",
    "  results['Similarity'] = results['Embedding'].apply(lambda x: cosine_similarity(x, query_embedding))\n",
    "  results = results.sort_values(by='Similarity', ascending=False).head(k)\n",
    "  results = results[results['Similarity'] >= min_similarity]\n",
    "  results['Tokens'] = results['Text'].apply(lambda txt: len(tokenizer.encode(txt)))\n",
    "  while results['Tokens'].sum() > max_tokens:\n",
    "    results = results[:-1]\n",
    "  return results"
   ]
  },
  {
   "cell_type": "code",
   "execution_count": 73,
   "metadata": {},
   "outputs": [],
   "source": [
    "DEFAULT_RESPONSE_TYPE = 'Summarize and explain in 1-2 paragraphs with bullet points using at most 300 tokens'\n",
    "DEFAULT_MAX_CONTEXT_TOKENS = 10000\n",
    "\n",
    "from graphrag.query.structured_search.global_search.reduce_system_prompt import REDUCE_SYSTEM_PROMPT\n",
    "\n",
    "def ask_embeddings(query, response_type=DEFAULT_RESPONSE_TYPE):\n",
    "  results = embeddings_search(query, max_tokens=DEFAULT_MAX_CONTEXT_TOKENS)\n",
    "  response = oai.chat.completions.create(\n",
    "    model=GPT_4_O_MODEL_NAME,\n",
    "    messages=[\n",
    "      {\n",
    "        \"role\": \"system\",\n",
    "        \"content\": REDUCE_SYSTEM_PROMPT.format(\n",
    "          response_type=response_type,\n",
    "          report_data=\"---\\n---\\n\".join(results['Text'].tolist()),\n",
    "        ),\n",
    "      },\n",
    "      {\"role\": \"user\", \"content\": query}\n",
    "    ],\n",
    "    max_tokens=4000,\n",
    "    temperature=0.5,\n",
    "  ).choices[0].message.content\n",
    "  return response"
   ]
  },
  {
   "cell_type": "code",
   "execution_count": 74,
   "metadata": {},
   "outputs": [
    {
     "data": {
      "text/markdown": [
       "### Maximilien Robespierre's Role in the French Revolution\n",
       "\n",
       "Maximilien Robespierre was a prominent and controversial figure during the French Revolution, known for his radical stances and leadership during the Reign of Terror. His actions and policies significantly influenced the course of the Revolution.\n",
       "\n",
       "#### Key Points\n",
       "\n",
       "- **Political Leadership**: Robespierre was a leading member of the radical Montagnard faction and played a crucial role in the Committee of Public Safety, which became the de facto executive government during the Reign of Terror [Data: Reports (7, 111, 114, +more)].\n",
       "- **Reign of Terror**: Under his influence, the Law of 22 Prairial was enacted, which expedited the execution of \"enemies of the people\" and led to a significant increase in executions in Paris [Data: Reports (129, 132, 133, +more)]. Approximately 16,000 people were executed, and another 40,000 may have been summarily executed or died awaiting trial during this period [Data: Reports (118, 119)].\n",
       "- **Radical Reforms**: Robespierre supported radical reforms, including universal male suffrage and the suspension of the 1793 Constitution to maintain revolutionary control [Data: Reports (114, 130, +more)].\n",
       "- **Downfall and Execution**: His refusal to name alleged conspirators against the Republic led to his downfall. After a failed suicide attempt, Robespierre was arrested and executed on 28 July 1794, marking the end of the Reign of Terror [Data: Reports (131, 132, 133)].\n",
       "- **Legacy**: Despite his execution, some of his allies, like Paul Barras and Joseph Fouché, retained their positions and continued to influence French politics [Data: Reports (136, 137)].\n",
       "\n",
       "Robespierre's tenure was marked by his unwavering commitment to revolutionary ideals and his willingness to use extreme measures to achieve them. His leadership during the Reign of Terror remains one of the most debated aspects of the French Revolution."
      ],
      "text/plain": [
       "<IPython.core.display.Markdown object>"
      ]
     },
     "execution_count": 74,
     "metadata": {},
     "output_type": "execute_result"
    }
   ],
   "source": [
    "from IPython.display import Markdown\n",
    "\n",
    "result = ask_embeddings('Who was Robespierre and what was his role in the French revolution?')\n",
    "\n",
    "Markdown(result)"
   ]
  },
  {
   "cell_type": "code",
   "execution_count": 75,
   "metadata": {},
   "outputs": [
    {
     "data": {
      "text/markdown": [
       "### Timeline of the French Revolution\n",
       "\n",
       "The French Revolution was a period of profound political and societal change in France from 1789 to 1799. Below are key events and milestones:\n",
       "\n",
       "- **May 1789**: The Estates General convened, marking the beginning of the Revolution [Data: Reports (3, 4, 5, 6, +more)].\n",
       "- **14 July 1789**: Storming of the Bastille, a significant event symbolizing the uprising against the monarchy [Data: Reports (1, 6, 48, 49, +more)].\n",
       "- **August 1789**: The National Assembly abolished feudalism and declared the rights of man [Data: Reports (56, 57, 58, 61, +more)].\n",
       "- **September 1792**: Proclamation of the French First Republic following the insurrection and abolition of the monarchy [Data: Reports (100, 101, 106, 109, +more)].\n",
       "- **January 1793**: Execution of Louis XVI, escalating the revolutionary fervor and leading to increased conflict [Data: Reports (108, 109, 110, 114, +more)].\n",
       "- **1793-1794**: Reign of Terror, marked by mass executions and political purges [Data: Reports (118, 119, 121, 122, +more)].\n",
       "- **July 1794**: Fall of Robespierre, ending the Reign of Terror [Data: Reports (134, 135, 158, +more)].\n",
       "- **1795**: Establishment of the Directory, a new government structure [Data: Reports (111, 116, 121, +more)].\n",
       "- **November 1799**: Coup of 18 Brumaire, leading to the rise of Napoleon Bonaparte and the end of the Revolution [Data: Reports (159, 160, 161, +more)].\n",
       "\n",
       "### Key Outcomes\n",
       "\n",
       "- **Abolition of the Ancien Régime**: The Revolution dismantled the feudal system and abolished the privileges of the nobility [Data: Reports (55, 56, 234, +more)].\n",
       "- **Creation of the French First Republic**: The monarchy was replaced by a republic, introducing new political and social reforms [Data: Reports (106, 109, 110, +more)].\n",
       "- **Reign of Terror**: A period of extreme violence aimed at purging counter-revolutionaries [Data: Reports (118, 119, 121, 122, +more)].\n",
       "- **Rise of Napoleon**: The Revolution ended with Napoleon's coup, setting the stage for his subsequent rule [Data: Reports (158, 159, 160, +more)].\n",
       "\n",
       "These events collectively transformed France, influencing modern political and social structures worldwide."
      ],
      "text/plain": [
       "<IPython.core.display.Markdown object>"
      ]
     },
     "execution_count": 75,
     "metadata": {},
     "output_type": "execute_result"
    }
   ],
   "source": [
    "result = ask_embeddings('Timeline of the French revolution')\n",
    "\n",
    "Markdown(result)"
   ]
  },
  {
   "cell_type": "code",
   "execution_count": 76,
   "metadata": {},
   "outputs": [],
   "source": [
    "import yaml\n",
    "\n",
    "if not os.path.exists('data/graphrag'):\n",
    "  !python -m graphrag.index --init --root data/graphrag\n",
    "\n",
    "with open('data/graphrag/settings.yaml', 'r') as f:\n",
    "  settings_yaml = yaml.load(f, Loader=yaml.FullLoader)\n",
    "settings_yaml['llm']['model'] = GPT_4_O_MODEL_NAME\n",
    "settings_yaml['llm']['api_key'] = AZURE_OPENAI_API_KEY if is_azure else OPENAI_API_KEY\n",
    "settings_yaml['llm']['type'] = 'azure_openai_chat' if is_azure else 'openai_chat'\n",
    "settings_yaml['embeddings']['llm']['api_key'] = AZURE_OPENAI_API_KEY if is_azure else OPENAI_API_KEY\n",
    "settings_yaml['embeddings']['llm']['type'] = 'azure_openai_embedding' if is_azure else 'openai_embedding'\n",
    "settings_yaml['embeddings']['llm']['model'] = TEXT_EMBEDDING_3_LARGE_MODEL_NAME\n",
    "if is_azure:\n",
    "  settings_yaml['llm']['api_version'] = AZURE_OPENAI_API_VERSION\n",
    "  settings_yaml['llm']['deployment_name'] = GPT_4_O_MODEL_NAME\n",
    "  settings_yaml['llm']['api_base'] = AZURE_OPENAI_ENDPOINT\n",
    "  settings_yaml['embeddings']['llm']['api_version'] = AZURE_OPENAI_API_VERSION\n",
    "  settings_yaml['embeddings']['llm']['deployment_name'] = TEXT_EMBEDDING_3_LARGE_MODEL_NAME\n",
    "  settings_yaml['embeddings']['llm']['api_base'] = AZURE_OPENAI_ENDPOINT\n",
    "\n",
    "with open('data/graphrag/settings.yaml', 'w') as f:\n",
    "  yaml.dump(settings_yaml, f)\n",
    "\n",
    "if not os.path.exists('data/graphrag/input'):\n",
    "  os.makedirs('data/graphrag/input')\n",
    "  !cp data/french_revolution.md data/graphrag/input/french_revolution.txt\n",
    "  !python -m graphrag.index --root ./data/graphrag"
   ]
  },
  {
   "cell_type": "code",
   "execution_count": 77,
   "metadata": {},
   "outputs": [],
   "source": [
    "import subprocess\n",
    "\n",
    "def ask_graph(query, response_type=DEFAULT_RESPONSE_TYPE):\n",
    "  env = os.environ.copy() | {\n",
    "    'GRAPHRAG_GLOBAL_SEARCH_MAX_TOKENS': str(DEFAULT_MAX_CONTEXT_TOKENS),\n",
    "  }\n",
    "  command = [\n",
    "    'python', '-m', 'graphrag.query',\n",
    "    '--root', './data/graphrag',\n",
    "    '--method', 'local',\n",
    "    '--response_type', response_type,\n",
    "    query,\n",
    "  ]\n",
    "  output = subprocess.check_output(command, universal_newlines=True, env=env)\n",
    "  return output.split('Search Response: ')[1]"
   ]
  },
  {
   "cell_type": "code",
   "execution_count": 78,
   "metadata": {},
   "outputs": [
    {
     "data": {
      "text/markdown": [
       "# Maximilien Robespierre and His Role in the French Revolution\n",
       "\n",
       "## Overview\n",
       "Maximilien Robespierre was a central figure in the French Revolution, known for his radical views and significant influence within the revolutionary government. His actions and policies were pivotal during the Reign of Terror, a period marked by extreme political repression and mass executions.\n",
       "\n",
       "## Key Roles and Actions\n",
       "- **Leadership and Influence**:\n",
       "  - Robespierre was a leading member of the Committee of Public Safety and a prominent leader within the Jacobins and the Montagnard faction [Data: Entities (52); Relationships (136, 263)].\n",
       "  - He opposed property qualifications for voting and advocated for broader democratic participation [Data: Entities (52, 133); Relationships (269, 280)].\n",
       "\n",
       "- **Reign of Terror**:\n",
       "  - Robespierre's policies were central to the Reign of Terror, which saw mass executions of perceived enemies of the revolution, including notable figures like Georges Danton and Hébert [Data: Entities (52, 186); Relationships (97, 266, 267)].\n",
       "  - His radical stance and actions eventually led to his downfall, culminating in his arrest and execution on 28 July 1794 [Data: Entities (52); Relationships (275)].\n",
       "\n",
       "- **Cult of the Supreme Being**:\n",
       "  - Robespierre led the establishment of the Cult of the Supreme Being, a revolutionary cult that faced ridicule and opposition [Data: Entities (249); Relationships (268)].\n",
       "\n",
       "- **Political Conflicts**:\n",
       "  - He was involved in significant political conflicts, including opposition to the refractory clergy and the Convention, which eventually authorized his arrest [Data: Relationships (261, 275)].\n",
       "\n",
       "Robespierre's legacy is marked by his intense ideological commitment and the extreme measures he endorsed to achieve his revolutionary goals. His influence and actions left a lasting impact on the course of the French Revolution.\n"
      ],
      "text/plain": [
       "<IPython.core.display.Markdown object>"
      ]
     },
     "execution_count": 78,
     "metadata": {},
     "output_type": "execute_result"
    }
   ],
   "source": [
    "from IPython.display import Markdown\n",
    "\n",
    "result = ask_graph('Who was Robespierre and what was his role in the French revolution?')\n",
    "\n",
    "Markdown(result)"
   ]
  },
  {
   "cell_type": "code",
   "execution_count": 79,
   "metadata": {},
   "outputs": [
    {
     "data": {
      "text/markdown": [
       "# Timeline of the French Revolution\n",
       "\n",
       "The French Revolution was a decade-long period of significant political and social upheaval in France, marked by key events and transformations:\n",
       "\n",
       "- **1789**: The revolution began with the Estates General convening in May, followed by the Storming of the Bastille on July 14, symbolizing the uprising against the monarchy [Data: Relationships (0, 9, 59)].\n",
       "- **1791**: The Constitution of 1791 established a constitutional monarchy, but political struggles continued [Data: Entities (3, 80)].\n",
       "- **1792**: The monarchy was abolished, and the French First Republic was proclaimed in September [Data: Entities (5); Relationships (4)].\n",
       "- **1793**: King Louis XVI was executed in January, marking the start of the Reign of Terror, a period of extreme political repression and mass executions [Data: Entities (3, 6); Relationships (2, 5)].\n",
       "- **1794**: The Reign of Terror ended with the execution of Robespierre in July [Data: Entities (6)].\n",
       "- **1799**: The revolution concluded with the coup of 18 Brumaire in November, leading to the establishment of the French Consulate and the rise of Napoleon Bonaparte [Data: Entities (0, 7); Relationships (34, 178)].\n",
       "\n",
       "These events collectively reshaped France's political landscape, leading to the end of the Ancien Régime and the rise of republicanism.\n"
      ],
      "text/plain": [
       "<IPython.core.display.Markdown object>"
      ]
     },
     "execution_count": 79,
     "metadata": {},
     "output_type": "execute_result"
    }
   ],
   "source": [
    "result = ask_graph('Timeline of the French revolution')\n",
    "\n",
    "Markdown(result)"
   ]
  },
  {
   "cell_type": "code",
   "execution_count": null,
   "metadata": {},
   "outputs": [],
   "source": []
  }
 ],
 "metadata": {
  "kernelspec": {
   "display_name": "Python 3",
   "language": "python",
   "name": "python3"
  },
  "language_info": {
   "codemirror_mode": {
    "name": "ipython",
    "version": 3
   },
   "file_extension": ".py",
   "mimetype": "text/x-python",
   "name": "python",
   "nbconvert_exporter": "python",
   "pygments_lexer": "ipython3",
   "version": "3.10.13"
  }
 },
 "nbformat": 4,
 "nbformat_minor": 2
}
